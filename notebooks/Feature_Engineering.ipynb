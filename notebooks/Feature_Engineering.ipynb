{
 "cells": [
  {
   "cell_type": "code",
   "execution_count": 296,
   "metadata": {},
   "outputs": [],
   "source": [
    "import pandas as pd\n",
    "import numpy as np\n",
    "import matplotlib.pyplot as plt\n",
    "import seaborn as sns\n",
    "import warnings\n",
    "warnings.filterwarnings(\"ignore\")\n",
    "pd.pandas.set_option(\"display.max_columns\", None)"
   ]
  },
  {
   "cell_type": "code",
   "execution_count": 297,
   "metadata": {},
   "outputs": [],
   "source": [
    "from sklearn.preprocessing import OneHotEncoder, OrdinalEncoder, StandardScaler, PowerTransformer\n",
    "from sklearn.compose import ColumnTransformer\n",
    "from sklearn.pipeline import Pipeline\n",
    "from imblearn.combine import SMOTEENN\n",
    "from sklearn.model_selection import  train_test_split\n",
    "from sklearn.preprocessing import LabelEncoder"
   ]
  },
  {
   "cell_type": "code",
   "execution_count": 298,
   "metadata": {},
   "outputs": [],
   "source": [
    "from sklearn.ensemble import RandomForestClassifier, AdaBoostClassifier, GradientBoostingClassifier\n",
    "from sklearn.linear_model import LogisticRegression\n",
    "from sklearn.neighbors import KNeighborsClassifier\n",
    "from sklearn.tree import DecisionTreeClassifier\n",
    "from sklearn.svm import SVC\n",
    "from sklearn.metrics import accuracy_score, classification_report,ConfusionMatrixDisplay, \\\n",
    "                            precision_score, recall_score, f1_score, roc_auc_score,roc_curve \n",
    "from xgboost import XGBClassifier\n",
    "from sklearn.model_selection import RandomizedSearchCV\n",
    "#from catboost import CatBoostClassifier"
   ]
  },
  {
   "cell_type": "code",
   "execution_count": 299,
   "metadata": {},
   "outputs": [
    {
     "data": {
      "text/plain": [
       "(25480, 12)"
      ]
     },
     "execution_count": 299,
     "metadata": {},
     "output_type": "execute_result"
    }
   ],
   "source": [
    "df = pd.read_csv('../data/raw/Visadataset.csv')\n",
    "df.shape"
   ]
  },
  {
   "cell_type": "markdown",
   "metadata": {},
   "source": [
    "##### Data Cleaning\n",
    "1. Handling missing/na values\n",
    "2. Handling duplicate values"
   ]
  },
  {
   "cell_type": "code",
   "execution_count": 300,
   "metadata": {},
   "outputs": [
    {
     "name": "stdout",
     "output_type": "stream",
     "text": [
      "case_id 0.0 % missing values\n",
      "continent 0.0 % missing values\n",
      "education_of_employee 0.0 % missing values\n",
      "has_job_experience 0.0 % missing values\n",
      "requires_job_training 0.0 % missing values\n",
      "no_of_employees 0.0 % missing values\n",
      "yr_of_estab 0.0 % missing values\n",
      "region_of_employment 0.0 % missing values\n",
      "prevailing_wage 0.0 % missing values\n",
      "unit_of_wage 0.0 % missing values\n",
      "full_time_position 0.0 % missing values\n",
      "case_status 0.0 % missing values\n"
     ]
    }
   ],
   "source": [
    "features_with_na = [col for col in df.columns if df[col].isnull().sum() >=1]\n",
    "for col in df.columns:\n",
    "    print(col, np.round(df[col].isnull().mean()*100, 2),'% missing values')"
   ]
  },
  {
   "cell_type": "code",
   "execution_count": 301,
   "metadata": {},
   "outputs": [
    {
     "data": {
      "text/plain": [
       "np.int64(0)"
      ]
     },
     "execution_count": 301,
     "metadata": {},
     "output_type": "execute_result"
    }
   ],
   "source": [
    "df.duplicated().sum()"
   ]
  },
  {
   "cell_type": "markdown",
   "metadata": {},
   "source": [
    "##### Observations:\n",
    "1. Dataset contains no null/na and duplicate records."
   ]
  },
  {
   "cell_type": "code",
   "execution_count": 302,
   "metadata": {},
   "outputs": [],
   "source": [
    "df.drop(columns=['case_id'], inplace=True)"
   ]
  },
  {
   "cell_type": "markdown",
   "metadata": {},
   "source": [
    "##### Feature Engineering"
   ]
  },
  {
   "cell_type": "code",
   "execution_count": 303,
   "metadata": {},
   "outputs": [
    {
     "data": {
      "text/html": [
       "<div>\n",
       "<style scoped>\n",
       "    .dataframe tbody tr th:only-of-type {\n",
       "        vertical-align: middle;\n",
       "    }\n",
       "\n",
       "    .dataframe tbody tr th {\n",
       "        vertical-align: top;\n",
       "    }\n",
       "\n",
       "    .dataframe thead th {\n",
       "        text-align: right;\n",
       "    }\n",
       "</style>\n",
       "<table border=\"1\" class=\"dataframe\">\n",
       "  <thead>\n",
       "    <tr style=\"text-align: right;\">\n",
       "      <th></th>\n",
       "      <th>continent</th>\n",
       "      <th>education_of_employee</th>\n",
       "      <th>has_job_experience</th>\n",
       "      <th>requires_job_training</th>\n",
       "      <th>no_of_employees</th>\n",
       "      <th>yr_of_estab</th>\n",
       "      <th>region_of_employment</th>\n",
       "      <th>prevailing_wage</th>\n",
       "      <th>unit_of_wage</th>\n",
       "      <th>full_time_position</th>\n",
       "      <th>case_status</th>\n",
       "    </tr>\n",
       "  </thead>\n",
       "  <tbody>\n",
       "    <tr>\n",
       "      <th>16069</th>\n",
       "      <td>Asia</td>\n",
       "      <td>Master's</td>\n",
       "      <td>Y</td>\n",
       "      <td>N</td>\n",
       "      <td>2780</td>\n",
       "      <td>1979</td>\n",
       "      <td>South</td>\n",
       "      <td>71322.6000</td>\n",
       "      <td>Year</td>\n",
       "      <td>Y</td>\n",
       "      <td>Certified</td>\n",
       "    </tr>\n",
       "    <tr>\n",
       "      <th>18395</th>\n",
       "      <td>Asia</td>\n",
       "      <td>Bachelor's</td>\n",
       "      <td>Y</td>\n",
       "      <td>N</td>\n",
       "      <td>2160</td>\n",
       "      <td>1999</td>\n",
       "      <td>West</td>\n",
       "      <td>112116.9800</td>\n",
       "      <td>Year</td>\n",
       "      <td>Y</td>\n",
       "      <td>Denied</td>\n",
       "    </tr>\n",
       "    <tr>\n",
       "      <th>24935</th>\n",
       "      <td>Asia</td>\n",
       "      <td>High School</td>\n",
       "      <td>N</td>\n",
       "      <td>N</td>\n",
       "      <td>491</td>\n",
       "      <td>1987</td>\n",
       "      <td>Midwest</td>\n",
       "      <td>60320.9900</td>\n",
       "      <td>Year</td>\n",
       "      <td>Y</td>\n",
       "      <td>Certified</td>\n",
       "    </tr>\n",
       "    <tr>\n",
       "      <th>25</th>\n",
       "      <td>North America</td>\n",
       "      <td>Master's</td>\n",
       "      <td>N</td>\n",
       "      <td>N</td>\n",
       "      <td>1100</td>\n",
       "      <td>1997</td>\n",
       "      <td>Midwest</td>\n",
       "      <td>99489.6500</td>\n",
       "      <td>Year</td>\n",
       "      <td>Y</td>\n",
       "      <td>Certified</td>\n",
       "    </tr>\n",
       "    <tr>\n",
       "      <th>18936</th>\n",
       "      <td>North America</td>\n",
       "      <td>Master's</td>\n",
       "      <td>N</td>\n",
       "      <td>N</td>\n",
       "      <td>2974</td>\n",
       "      <td>1976</td>\n",
       "      <td>South</td>\n",
       "      <td>255.9271</td>\n",
       "      <td>Hour</td>\n",
       "      <td>Y</td>\n",
       "      <td>Denied</td>\n",
       "    </tr>\n",
       "  </tbody>\n",
       "</table>\n",
       "</div>"
      ],
      "text/plain": [
       "           continent education_of_employee has_job_experience  \\\n",
       "16069           Asia              Master's                  Y   \n",
       "18395           Asia            Bachelor's                  Y   \n",
       "24935           Asia           High School                  N   \n",
       "25     North America              Master's                  N   \n",
       "18936  North America              Master's                  N   \n",
       "\n",
       "      requires_job_training  no_of_employees  yr_of_estab  \\\n",
       "16069                     N             2780         1979   \n",
       "18395                     N             2160         1999   \n",
       "24935                     N              491         1987   \n",
       "25                        N             1100         1997   \n",
       "18936                     N             2974         1976   \n",
       "\n",
       "      region_of_employment  prevailing_wage unit_of_wage full_time_position  \\\n",
       "16069                South       71322.6000         Year                  Y   \n",
       "18395                 West      112116.9800         Year                  Y   \n",
       "24935              Midwest       60320.9900         Year                  Y   \n",
       "25                 Midwest       99489.6500         Year                  Y   \n",
       "18936                South         255.9271         Hour                  Y   \n",
       "\n",
       "      case_status  \n",
       "16069   Certified  \n",
       "18395      Denied  \n",
       "24935   Certified  \n",
       "25      Certified  \n",
       "18936      Denied  "
      ]
     },
     "execution_count": 303,
     "metadata": {},
     "output_type": "execute_result"
    }
   ],
   "source": [
    "df.sample(5)"
   ]
  },
  {
   "cell_type": "code",
   "execution_count": 304,
   "metadata": {},
   "outputs": [
    {
     "data": {
      "text/plain": [
       "2024"
      ]
     },
     "execution_count": 304,
     "metadata": {},
     "output_type": "execute_result"
    }
   ],
   "source": [
    "# We will use age of the companies instead of using year of their establishment\n",
    "from datetime import date\n",
    "current_date = date.today()\n",
    "current_year = current_date.year\n",
    "current_year"
   ]
  },
  {
   "cell_type": "code",
   "execution_count": 305,
   "metadata": {},
   "outputs": [],
   "source": [
    "df['company_age'] = current_year - df['yr_of_estab']"
   ]
  },
  {
   "cell_type": "code",
   "execution_count": 306,
   "metadata": {},
   "outputs": [
    {
     "data": {
      "text/html": [
       "<div>\n",
       "<style scoped>\n",
       "    .dataframe tbody tr th:only-of-type {\n",
       "        vertical-align: middle;\n",
       "    }\n",
       "\n",
       "    .dataframe tbody tr th {\n",
       "        vertical-align: top;\n",
       "    }\n",
       "\n",
       "    .dataframe thead th {\n",
       "        text-align: right;\n",
       "    }\n",
       "</style>\n",
       "<table border=\"1\" class=\"dataframe\">\n",
       "  <thead>\n",
       "    <tr style=\"text-align: right;\">\n",
       "      <th></th>\n",
       "      <th>continent</th>\n",
       "      <th>education_of_employee</th>\n",
       "      <th>has_job_experience</th>\n",
       "      <th>requires_job_training</th>\n",
       "      <th>no_of_employees</th>\n",
       "      <th>yr_of_estab</th>\n",
       "      <th>region_of_employment</th>\n",
       "      <th>prevailing_wage</th>\n",
       "      <th>unit_of_wage</th>\n",
       "      <th>full_time_position</th>\n",
       "      <th>case_status</th>\n",
       "      <th>company_age</th>\n",
       "    </tr>\n",
       "  </thead>\n",
       "  <tbody>\n",
       "    <tr>\n",
       "      <th>0</th>\n",
       "      <td>Asia</td>\n",
       "      <td>High School</td>\n",
       "      <td>N</td>\n",
       "      <td>N</td>\n",
       "      <td>14513</td>\n",
       "      <td>2007</td>\n",
       "      <td>West</td>\n",
       "      <td>592.2029</td>\n",
       "      <td>Hour</td>\n",
       "      <td>Y</td>\n",
       "      <td>Denied</td>\n",
       "      <td>17</td>\n",
       "    </tr>\n",
       "    <tr>\n",
       "      <th>1</th>\n",
       "      <td>Asia</td>\n",
       "      <td>Master's</td>\n",
       "      <td>Y</td>\n",
       "      <td>N</td>\n",
       "      <td>2412</td>\n",
       "      <td>2002</td>\n",
       "      <td>Northeast</td>\n",
       "      <td>83425.6500</td>\n",
       "      <td>Year</td>\n",
       "      <td>Y</td>\n",
       "      <td>Certified</td>\n",
       "      <td>22</td>\n",
       "    </tr>\n",
       "    <tr>\n",
       "      <th>2</th>\n",
       "      <td>Asia</td>\n",
       "      <td>Bachelor's</td>\n",
       "      <td>N</td>\n",
       "      <td>Y</td>\n",
       "      <td>44444</td>\n",
       "      <td>2008</td>\n",
       "      <td>West</td>\n",
       "      <td>122996.8600</td>\n",
       "      <td>Year</td>\n",
       "      <td>Y</td>\n",
       "      <td>Denied</td>\n",
       "      <td>16</td>\n",
       "    </tr>\n",
       "    <tr>\n",
       "      <th>3</th>\n",
       "      <td>Asia</td>\n",
       "      <td>Bachelor's</td>\n",
       "      <td>N</td>\n",
       "      <td>N</td>\n",
       "      <td>98</td>\n",
       "      <td>1897</td>\n",
       "      <td>West</td>\n",
       "      <td>83434.0300</td>\n",
       "      <td>Year</td>\n",
       "      <td>Y</td>\n",
       "      <td>Denied</td>\n",
       "      <td>127</td>\n",
       "    </tr>\n",
       "    <tr>\n",
       "      <th>4</th>\n",
       "      <td>Africa</td>\n",
       "      <td>Master's</td>\n",
       "      <td>Y</td>\n",
       "      <td>N</td>\n",
       "      <td>1082</td>\n",
       "      <td>2005</td>\n",
       "      <td>South</td>\n",
       "      <td>149907.3900</td>\n",
       "      <td>Year</td>\n",
       "      <td>Y</td>\n",
       "      <td>Certified</td>\n",
       "      <td>19</td>\n",
       "    </tr>\n",
       "  </tbody>\n",
       "</table>\n",
       "</div>"
      ],
      "text/plain": [
       "  continent education_of_employee has_job_experience requires_job_training  \\\n",
       "0      Asia           High School                  N                     N   \n",
       "1      Asia              Master's                  Y                     N   \n",
       "2      Asia            Bachelor's                  N                     Y   \n",
       "3      Asia            Bachelor's                  N                     N   \n",
       "4    Africa              Master's                  Y                     N   \n",
       "\n",
       "   no_of_employees  yr_of_estab region_of_employment  prevailing_wage  \\\n",
       "0            14513         2007                 West         592.2029   \n",
       "1             2412         2002            Northeast       83425.6500   \n",
       "2            44444         2008                 West      122996.8600   \n",
       "3               98         1897                 West       83434.0300   \n",
       "4             1082         2005                South      149907.3900   \n",
       "\n",
       "  unit_of_wage full_time_position case_status  company_age  \n",
       "0         Hour                  Y      Denied           17  \n",
       "1         Year                  Y   Certified           22  \n",
       "2         Year                  Y      Denied           16  \n",
       "3         Year                  Y      Denied          127  \n",
       "4         Year                  Y   Certified           19  "
      ]
     },
     "execution_count": 306,
     "metadata": {},
     "output_type": "execute_result"
    }
   ],
   "source": [
    "df.head()"
   ]
  },
  {
   "cell_type": "code",
   "execution_count": 307,
   "metadata": {},
   "outputs": [],
   "source": [
    "df.drop('yr_of_estab', inplace=True, axis=1)"
   ]
  },
  {
   "cell_type": "code",
   "execution_count": 308,
   "metadata": {},
   "outputs": [
    {
     "data": {
      "text/plain": [
       "['no_of_employees', 'prevailing_wage', 'company_age']"
      ]
     },
     "execution_count": 308,
     "metadata": {},
     "output_type": "execute_result"
    }
   ],
   "source": [
    "numeric_features = [col for col in df.columns if df[col].dtype != 'object']\n",
    "numeric_features"
   ]
  },
  {
   "cell_type": "code",
   "execution_count": 309,
   "metadata": {},
   "outputs": [
    {
     "data": {
      "text/plain": [
       "['continent',\n",
       " 'education_of_employee',\n",
       " 'has_job_experience',\n",
       " 'requires_job_training',\n",
       " 'region_of_employment',\n",
       " 'unit_of_wage',\n",
       " 'full_time_position',\n",
       " 'case_status']"
      ]
     },
     "execution_count": 309,
     "metadata": {},
     "output_type": "execute_result"
    }
   ],
   "source": [
    "categorical_features = [col for col in df.columns if df[col].dtype == 'object']\n",
    "categorical_features"
   ]
  },
  {
   "cell_type": "code",
   "execution_count": 310,
   "metadata": {},
   "outputs": [
    {
     "data": {
      "text/plain": [
       "[]"
      ]
     },
     "execution_count": 310,
     "metadata": {},
     "output_type": "execute_result"
    }
   ],
   "source": [
    "discrete_features = [col for col in numeric_features if len(df[col].unique()) <=25]\n",
    "discrete_features"
   ]
  },
  {
   "cell_type": "code",
   "execution_count": 311,
   "metadata": {},
   "outputs": [
    {
     "data": {
      "text/plain": [
       "['no_of_employees', 'prevailing_wage', 'company_age']"
      ]
     },
     "execution_count": 311,
     "metadata": {},
     "output_type": "execute_result"
    }
   ],
   "source": [
    "continuous_features = [col for col in numeric_features if len(df[col].unique()) >25]\n",
    "continuous_features"
   ]
  },
  {
   "cell_type": "code",
   "execution_count": 312,
   "metadata": {},
   "outputs": [],
   "source": [
    "X = df.drop('case_status', axis=1)\n",
    "y = df['case_status']"
   ]
  },
  {
   "cell_type": "markdown",
   "metadata": {},
   "source": [
    "##### Feature Transformation"
   ]
  },
  {
   "cell_type": "code",
   "execution_count": 313,
   "metadata": {},
   "outputs": [
    {
     "data": {
      "image/png": "[encoded data removed]",
      "text/plain": [
       "<Figure size 1000x600 with 3 Axes>"
      ]
     },
     "metadata": {},
     "output_type": "display_data"
    }
   ],
   "source": [
    "# distribution of data for numerical features before scaling\n",
    "plt.figure(figsize=(10,6))\n",
    "for i,col in enumerate(continuous_features,1):\n",
    "    plt.subplot(2,2,i)\n",
    "    sns.histplot(x=X[col], color='lightgreen')\n",
    "    plt.xlabel(col)\n",
    "    plt.tight_layout()"
   ]
  },
  {
   "cell_type": "code",
   "execution_count": 314,
   "metadata": {},
   "outputs": [
    {
     "data": {
      "text/plain": [
       "no_of_employees    12.265260\n",
       "prevailing_wage     0.755776\n",
       "company_age         2.037301\n",
       "dtype: float64"
      ]
     },
     "execution_count": 314,
     "metadata": {},
     "output_type": "execute_result"
    }
   ],
   "source": [
    "X[continuous_features].skew(axis=0, skipna=True)"
   ]
  },
  {
   "cell_type": "markdown",
   "metadata": {},
   "source": [
    "##### We can see that `no_of_employees` and `company_age` are positively skewed with outliers, so we will use power transformer to handle them also to make distribution near to normal/gaussian like."
   ]
  },
  {
   "cell_type": "code",
   "execution_count": 315,
   "metadata": {},
   "outputs": [],
   "source": [
    "from sklearn.preprocessing import PowerTransformer\n",
    "\n",
    "pt = PowerTransformer(method='yeo-johnson')\n",
    "X_transf = pt.fit_transform(X[['no_of_employees','company_age']])\n",
    "X_transf = pd.DataFrame(X_transf, columns=['no_of_employees','company_age'])"
   ]
  },
  {
   "cell_type": "code",
   "execution_count": 316,
   "metadata": {},
   "outputs": [
    {
     "data": {
      "image/png": "[encoded data removed]",
      "text/plain": [
       "<Figure size 1000x600 with 2 Axes>"
      ]
     },
     "metadata": {},
     "output_type": "display_data"
    }
   ],
   "source": [
    "# distribution of data for numerical features after transformation\n",
    "plt.figure(figsize=(10,6))\n",
    "for i,col in enumerate(X_transf.columns,1):\n",
    "    plt.subplot(2,2,i)\n",
    "    sns.histplot(x=X_transf[col], color='lightgreen')\n",
    "    plt.xlabel(col)\n",
    "    plt.tight_layout()"
   ]
  },
  {
   "cell_type": "code",
   "execution_count": 317,
   "metadata": {},
   "outputs": [
    {
     "data": {
      "text/plain": [
       "no_of_employees    0.399339\n",
       "company_age        0.103264\n",
       "dtype: float64"
      ]
     },
     "execution_count": 317,
     "metadata": {},
     "output_type": "execute_result"
    }
   ],
   "source": [
    "X_transf.skew(axis=0, skipna=True)"
   ]
  },
  {
   "cell_type": "markdown",
   "metadata": {},
   "source": [
    "##### After using the yeo-johnson transformation the skeweness has reduced."
   ]
  },
  {
   "cell_type": "code",
   "execution_count": 318,
   "metadata": {},
   "outputs": [
    {
     "name": "stdout",
     "output_type": "stream",
     "text": [
      "continent 6\n",
      "education_of_employee 4\n",
      "has_job_experience 2\n",
      "requires_job_training 2\n",
      "region_of_employment 5\n",
      "unit_of_wage 4\n",
      "full_time_position 2\n",
      "case_status 2\n"
     ]
    }
   ],
   "source": [
    "for col in categorical_features:\n",
    "    print(col, df[col].nunique())"
   ]
  },
  {
   "cell_type": "code",
   "execution_count": 319,
   "metadata": {},
   "outputs": [],
   "source": [
    "models = {\n",
    "        \"Random Forest\": RandomForestClassifier(),\n",
    "        \"Decision Tree\": DecisionTreeClassifier(),\n",
    "        \"Gradient Boosting\": GradientBoostingClassifier(),\n",
    "        \"Logistic Regression\": LogisticRegression(),\n",
    "        \"K-Neighbors Classifier\": KNeighborsClassifier(),\n",
    "        \"XGBClassifier\": XGBClassifier(),\n",
    "        \"Support Vector Classifier\": SVC(),\n",
    "        \"AdaBoost Classifier\": AdaBoostClassifier()\n",
    "    }"
   ]
  },
  {
   "cell_type": "code",
   "execution_count": 320,
   "metadata": {},
   "outputs": [],
   "source": [
    "def preprocess_data(X_train, X_test):\n",
    "    or_columns = ['has_job_experience','requires_job_training','full_time_position','education_of_employee']\n",
    "    oh_columns = ['continent','unit_of_wage','region_of_employment']\n",
    "    transform_columns= ['no_of_employees','company_age']\n",
    "    \n",
    "    power_transfrom = Pipeline(steps = [\n",
    "                        ('transform', PowerTransformer(method='yeo-johnson'))\n",
    "                    ])\n",
    "\n",
    "    preprocessor = ColumnTransformer([\n",
    "                        ('OneHotEncoder', OneHotEncoder(), oh_columns),\n",
    "                        ('OrdinalEnconder', OrdinalEncoder(), or_columns),\n",
    "                        ('Transformer', power_transfrom, transform_columns),\n",
    "                        ('StandardScaler', StandardScaler(), numeric_features)\n",
    "                    ])\n",
    "    \n",
    "    X_train = preprocessor.fit_transform(X_train)\n",
    "    X_test = preprocessor.transform(X_test)\n",
    "        \n",
    "    return X_train, X_test"
   ]
  },
  {
   "cell_type": "code",
   "execution_count": 321,
   "metadata": {},
   "outputs": [],
   "source": [
    "# Synthetic data generation for minority class only on train dataset\n",
    "def data_resample(X_train, y_train):\n",
    "    smote = SMOTEENN(random_state=42, sampling_strategy='minority')\n",
    "    X_train, y_train = smote.fit_resample(X_train, y_train)\n",
    "    \n",
    "    return X_train, y_train"
   ]
  },
  {
   "cell_type": "code",
   "execution_count": 322,
   "metadata": {},
   "outputs": [],
   "source": [
    "def evaluate_model(actual, predicted):\n",
    "    acc = accuracy_score(actual, predicted)\n",
    "    f1 = f1_score(actual, predicted)\n",
    "    precision = precision_score(actual, predicted)\n",
    "    recall = recall_score(actual, predicted)\n",
    "    roc_auc = roc_auc_score(actual, predicted)\n",
    "    \n",
    "    return acc, f1, precision, recall, roc_auc"
   ]
  },
  {
   "cell_type": "code",
   "execution_count": 323,
   "metadata": {},
   "outputs": [],
   "source": [
    "def get_data(df):\n",
    "    \n",
    "    X = df.drop('case_status', axis=1)\n",
    "    y = df['case_status']\n",
    "    \n",
    "    le = LabelEncoder()\n",
    "    y_new = le.fit_transform(y)\n",
    "    \n",
    "    X_train, X_test, y_train, y_test = train_test_split(X, y_new, test_size=0.2, random_state=42)\n",
    "    X_train_processed, X_test_processed = preprocess_data(X_train, X_test)\n",
    "    X_train_sampled, y_train_sampled = data_resample(X_train_processed, y_train)\n",
    "    \n",
    "    return X_train_sampled, y_train_sampled, X_test_processed, y_test"
   ]
  },
  {
   "cell_type": "code",
   "execution_count": 324,
   "metadata": {},
   "outputs": [],
   "source": [
    "def train_model(df, models):\n",
    "    \n",
    "    X_train_sampled, y_train_sampled, X_test_processed, y_test = get_data(df)\n",
    "        \n",
    "    trained_models = []\n",
    "    accuracies = []\n",
    "    auc = []\n",
    "    \n",
    "    for name, model in models.items():\n",
    "        model.fit(X_train_sampled, y_train_sampled)\n",
    " \n",
    "        y_train_pred = model.predict(X_train_sampled)\n",
    "        y_test_pred = model.predict(X_test_processed)\n",
    "        \n",
    "        # Training data performance\n",
    "        train_acc, train_f1, train_precision, train_recall, train_roc_auc = evaluate_model(y_train_sampled, y_train_pred)\n",
    "        \n",
    "        # Testing data performance\n",
    "        test_acc, test_f1, test_precision, test_recall, test_roc_auc = evaluate_model(y_test, y_test_pred)\n",
    "        \n",
    "        trained_models.append(name)\n",
    "        print(name)\n",
    "        print('Model performance on training set')\n",
    "        print('- Accuracy: {:.4f}'.format(train_acc))\n",
    "        print('- F1 Score: {:.4f}'.format(train_f1))\n",
    "        print('- Precision: {:.4f}'.format(train_precision))\n",
    "        print('- Recall: {:.4f}'.format(train_recall))\n",
    "        print('- ROC AUC Score: {:.4f}'.format(train_roc_auc))\n",
    "        \n",
    "        print('------------------------------------------------')\n",
    "        \n",
    "        print('Model performance on testing set')\n",
    "        print('- Accuracy: {:.4f}'.format(test_acc))\n",
    "        print('- F1 Score: {:.4f}'.format(test_f1))\n",
    "        print('- Precision: {:.4f}'.format(test_precision))\n",
    "        print('- Recall: {:.4f}'.format(test_recall))\n",
    "        print('- ROC AUC Score: {:.4f}'.format(test_roc_auc))\n",
    "        \n",
    "        accuracies.append(test_acc)\n",
    "        auc.append(test_roc_auc)\n",
    "        print(\"\\n\")\n",
    "        \n",
    "    final_report = pd.DataFrame(zip(trained_models, accuracies, auc), columns=['Model Name', 'Accuracy', 'ROC AUC Score']).sort_values(by='Accuracy', ascending=False)\n",
    "    \n",
    "    return final_report"
   ]
  },
  {
   "cell_type": "code",
   "execution_count": 325,
   "metadata": {},
   "outputs": [
    {
     "name": "stdout",
     "output_type": "stream",
     "text": [
      "Random Forest\n",
      "Model performance on training set\n",
      "- Accuracy: 1.0000\n",
      "- F1 Score: 1.0000\n",
      "- Precision: 1.0000\n",
      "- Recall: 1.0000\n",
      "- ROC AUC Score: 1.0000\n",
      "------------------------------------------------\n",
      "Model performance on testing set\n",
      "- Accuracy: 0.7070\n",
      "- F1 Score: 0.6062\n",
      "- Precision: 0.5482\n",
      "- Recall: 0.6779\n",
      "- ROC AUC Score: 0.6997\n",
      "\n",
      "\n",
      "Decision Tree\n",
      "Model performance on training set\n",
      "- Accuracy: 1.0000\n",
      "- F1 Score: 1.0000\n",
      "- Precision: 1.0000\n",
      "- Recall: 1.0000\n",
      "- ROC AUC Score: 1.0000\n",
      "------------------------------------------------\n",
      "Model performance on testing set\n",
      "- Accuracy: 0.6915\n",
      "- F1 Score: 0.5898\n",
      "- Precision: 0.5288\n",
      "- Recall: 0.6667\n",
      "- ROC AUC Score: 0.6853\n",
      "\n",
      "\n",
      "Gradient Boosting\n",
      "Model performance on training set\n",
      "- Accuracy: 0.8913\n",
      "- F1 Score: 0.8988\n",
      "- Precision: 0.9002\n",
      "- Recall: 0.8975\n",
      "- ROC AUC Score: 0.8908\n",
      "------------------------------------------------\n",
      "Model performance on testing set\n",
      "- Accuracy: 0.7072\n",
      "- F1 Score: 0.6274\n",
      "- Precision: 0.5440\n",
      "- Recall: 0.7410\n",
      "- ROC AUC Score: 0.7157\n",
      "\n",
      "\n",
      "Logistic Regression\n",
      "Model performance on training set\n",
      "- Accuracy: 0.7472\n",
      "- F1 Score: 0.7609\n",
      "- Precision: 0.7743\n",
      "- Recall: 0.7481\n",
      "- ROC AUC Score: 0.7472\n",
      "------------------------------------------------\n",
      "Model performance on testing set\n",
      "- Accuracy: 0.6058\n",
      "- F1 Score: 0.5374\n",
      "- Precision: 0.4407\n",
      "- Recall: 0.6885\n",
      "- ROC AUC Score: 0.6265\n",
      "\n",
      "\n",
      "K-Neighbors Classifier\n",
      "Model performance on training set\n",
      "- Accuracy: 0.9726\n",
      "- F1 Score: 0.9748\n",
      "- Precision: 0.9665\n",
      "- Recall: 0.9832\n",
      "- ROC AUC Score: 0.9717\n",
      "------------------------------------------------\n",
      "Model performance on testing set\n",
      "- Accuracy: 0.6644\n",
      "- F1 Score: 0.5813\n",
      "- Precision: 0.4969\n",
      "- Recall: 0.7003\n",
      "- ROC AUC Score: 0.6734\n",
      "\n",
      "\n",
      "XGBClassifier\n",
      "Model performance on training set\n",
      "- Accuracy: 0.9806\n",
      "- F1 Score: 0.9819\n",
      "- Precision: 0.9814\n",
      "- Recall: 0.9825\n",
      "- ROC AUC Score: 0.9804\n",
      "------------------------------------------------\n",
      "Model performance on testing set\n",
      "- Accuracy: 0.7127\n",
      "- F1 Score: 0.6111\n",
      "- Precision: 0.5558\n",
      "- Recall: 0.6785\n",
      "- ROC AUC Score: 0.7041\n",
      "\n",
      "\n",
      "Support Vector Classifier\n",
      "Model performance on training set\n",
      "- Accuracy: 0.8804\n",
      "- F1 Score: 0.8872\n",
      "- Precision: 0.8996\n",
      "- Recall: 0.8751\n",
      "- ROC AUC Score: 0.8808\n",
      "------------------------------------------------\n",
      "Model performance on testing set\n",
      "- Accuracy: 0.6896\n",
      "- F1 Score: 0.6037\n",
      "- Precision: 0.5246\n",
      "- Recall: 0.7109\n",
      "- ROC AUC Score: 0.6949\n",
      "\n",
      "\n",
      "AdaBoost Classifier\n",
      "Model performance on training set\n",
      "- Accuracy: 0.8616\n",
      "- F1 Score: 0.8710\n",
      "- Precision: 0.8729\n",
      "- Recall: 0.8691\n",
      "- ROC AUC Score: 0.8610\n",
      "------------------------------------------------\n",
      "Model performance on testing set\n",
      "- Accuracy: 0.6878\n",
      "- F1 Score: 0.6107\n",
      "- Precision: 0.5217\n",
      "- Recall: 0.7363\n",
      "- ROC AUC Score: 0.7000\n",
      "\n",
      "\n"
     ]
    }
   ],
   "source": [
    "base_model_report = train_model(df, models)"
   ]
  },
  {
   "cell_type": "code",
   "execution_count": 326,
   "metadata": {},
   "outputs": [
    {
     "data": {
      "text/html": [
       "<div>\n",
       "<style scoped>\n",
       "    .dataframe tbody tr th:only-of-type {\n",
       "        vertical-align: middle;\n",
       "    }\n",
       "\n",
       "    .dataframe tbody tr th {\n",
       "        vertical-align: top;\n",
       "    }\n",
       "\n",
       "    .dataframe thead th {\n",
       "        text-align: right;\n",
       "    }\n",
       "</style>\n",
       "<table border=\"1\" class=\"dataframe\">\n",
       "  <thead>\n",
       "    <tr style=\"text-align: right;\">\n",
       "      <th></th>\n",
       "      <th>Model Name</th>\n",
       "      <th>Accuracy</th>\n",
       "      <th>ROC AUC Score</th>\n",
       "    </tr>\n",
       "  </thead>\n",
       "  <tbody>\n",
       "    <tr>\n",
       "      <th>5</th>\n",
       "      <td>XGBClassifier</td>\n",
       "      <td>0.712716</td>\n",
       "      <td>0.704126</td>\n",
       "    </tr>\n",
       "    <tr>\n",
       "      <th>2</th>\n",
       "      <td>Gradient Boosting</td>\n",
       "      <td>0.707221</td>\n",
       "      <td>0.715694</td>\n",
       "    </tr>\n",
       "    <tr>\n",
       "      <th>0</th>\n",
       "      <td>Random Forest</td>\n",
       "      <td>0.707025</td>\n",
       "      <td>0.699714</td>\n",
       "    </tr>\n",
       "    <tr>\n",
       "      <th>1</th>\n",
       "      <td>Decision Tree</td>\n",
       "      <td>0.691523</td>\n",
       "      <td>0.685289</td>\n",
       "    </tr>\n",
       "    <tr>\n",
       "      <th>6</th>\n",
       "      <td>Support Vector Classifier</td>\n",
       "      <td>0.689560</td>\n",
       "      <td>0.694916</td>\n",
       "    </tr>\n",
       "    <tr>\n",
       "      <th>7</th>\n",
       "      <td>AdaBoost Classifier</td>\n",
       "      <td>0.687794</td>\n",
       "      <td>0.699956</td>\n",
       "    </tr>\n",
       "    <tr>\n",
       "      <th>4</th>\n",
       "      <td>K-Neighbors Classifier</td>\n",
       "      <td>0.664443</td>\n",
       "      <td>0.673435</td>\n",
       "    </tr>\n",
       "    <tr>\n",
       "      <th>3</th>\n",
       "      <td>Logistic Regression</td>\n",
       "      <td>0.605769</td>\n",
       "      <td>0.626518</td>\n",
       "    </tr>\n",
       "  </tbody>\n",
       "</table>\n",
       "</div>"
      ],
      "text/plain": [
       "                  Model Name  Accuracy  ROC AUC Score\n",
       "5              XGBClassifier  0.712716       0.704126\n",
       "2          Gradient Boosting  0.707221       0.715694\n",
       "0              Random Forest  0.707025       0.699714\n",
       "1              Decision Tree  0.691523       0.685289\n",
       "6  Support Vector Classifier  0.689560       0.694916\n",
       "7        AdaBoost Classifier  0.687794       0.699956\n",
       "4     K-Neighbors Classifier  0.664443       0.673435\n",
       "3        Logistic Regression  0.605769       0.626518"
      ]
     },
     "execution_count": 326,
     "metadata": {},
     "output_type": "execute_result"
    }
   ],
   "source": [
    "base_model_report"
   ]
  },
  {
   "cell_type": "markdown",
   "metadata": {},
   "source": [
    "##### Finding the best params for top 3 models."
   ]
  },
  {
   "cell_type": "code",
   "execution_count": 327,
   "metadata": {},
   "outputs": [],
   "source": [
    "# Hyperparamter tuning for first 3 best models\n",
    "xgboost_params = {\n",
    "    'max_depth':range(3,10,2),\n",
    "    'min_child_weight':range(1,6,2)\n",
    "}\n",
    "\n",
    "rf_params = {\n",
    "    \"max_depth\": [10, 12, None, 15, 20],\n",
    "    \"max_features\": ['sqrt', 'log2', None],\n",
    "    \"n_estimators\": [10, 50, 100, 200]\n",
    "}\n",
    "\n",
    "gradient_params = {\n",
    "    \"max_depth\": [10, 12, None, 15, 20],\n",
    "    \"n_estimators\": [10, 50, 100, 200]\n",
    "}"
   ]
  },
  {
   "cell_type": "code",
   "execution_count": 328,
   "metadata": {},
   "outputs": [],
   "source": [
    "random_models = [\n",
    "    ('XGBoost', XGBClassifier(), xgboost_params),\n",
    "    ('RF', RandomForestClassifier(), rf_params),\n",
    "    ('GradientBoost', GradientBoostingClassifier(), gradient_params)\n",
    "]"
   ]
  },
  {
   "cell_type": "code",
   "execution_count": 329,
   "metadata": {},
   "outputs": [],
   "source": [
    "def find_best_params(df):\n",
    "    model_params = {}\n",
    "    for name, model, params in random_models:\n",
    "        random = RandomizedSearchCV(estimator=model, \n",
    "                                    param_distributions=params,\n",
    "                                    n_iter=100,\n",
    "                                    cv=3,\n",
    "                                    verbose=2,\n",
    "                                    n_jobs=-1)\n",
    "        \n",
    "        X_train_sampled, y_train_sampled, _, _ = get_data(df)\n",
    "        random.fit(X_train_sampled, y_train_sampled)\n",
    "        model_params[name] = random.best_params_\n",
    "        \n",
    "    for model_name in model_params:\n",
    "        print(f'--------------Best Params for {model_name}-----------------')\n",
    "        print(model_params[model_name])\n",
    "        \n",
    "    return model_params"
   ]
  },
  {
   "cell_type": "code",
   "execution_count": 330,
   "metadata": {},
   "outputs": [
    {
     "name": "stdout",
     "output_type": "stream",
     "text": [
      "Fitting 3 folds for each of 12 candidates, totalling 36 fits\n",
      "[CV] END ....................max_depth=3, min_child_weight=1; total time=   0.3s\n",
      "[CV] END ....................max_depth=3, min_child_weight=1; total time=   0.3s\n",
      "[CV] END ....................max_depth=3, min_child_weight=1; total time=   0.3s\n",
      "[CV] END ....................max_depth=3, min_child_weight=3; total time=   0.3s\n",
      "[CV] END ....................max_depth=3, min_child_weight=3; total time=   0.3s\n",
      "[CV] END ....................max_depth=3, min_child_weight=5; total time=   0.2s\n",
      "[CV] END ....................max_depth=3, min_child_weight=5; total time=   0.2s\n",
      "[CV] END ....................max_depth=3, min_child_weight=3; total time=   0.3s\n",
      "[CV] END ....................max_depth=3, min_child_weight=5; total time=   0.3s\n",
      "[CV] END ....................max_depth=5, min_child_weight=3; total time=   0.4s\n",
      "[CV] END ....................max_depth=5, min_child_weight=1; total time=   0.4s\n",
      "[CV] END ....................max_depth=5, min_child_weight=1; total time=   0.4s\n",
      "[CV] END ....................max_depth=5, min_child_weight=1; total time=   0.5s\n",
      "[CV] END ....................max_depth=5, min_child_weight=5; total time=   0.4s\n",
      "[CV] END ....................max_depth=5, min_child_weight=3; total time=   0.4s\n",
      "[CV] END ....................max_depth=5, min_child_weight=3; total time=   0.5s\n",
      "[CV] END ....................max_depth=5, min_child_weight=5; total time=   0.3s\n",
      "[CV] END ....................max_depth=5, min_child_weight=5; total time=   0.3s\n",
      "[CV] END ....................max_depth=7, min_child_weight=1; total time=   0.4s\n",
      "[CV] END ....................max_depth=7, min_child_weight=3; total time=   0.5s\n",
      "[CV] END ....................max_depth=7, min_child_weight=1; total time=   0.5s\n",
      "[CV] END ....................max_depth=7, min_child_weight=3; total time=   0.5s\n",
      "[CV] END ....................max_depth=7, min_child_weight=1; total time=   0.5s\n",
      "[CV] END ....................max_depth=7, min_child_weight=3; total time=   0.6s\n",
      "[CV] END ....................max_depth=7, min_child_weight=5; total time=   0.4s\n",
      "[CV] END ....................max_depth=7, min_child_weight=5; total time=   0.5s\n",
      "[CV] END ....................max_depth=7, min_child_weight=5; total time=   0.5s\n",
      "[CV] END ....................max_depth=9, min_child_weight=3; total time=   0.8s\n",
      "[CV] END ....................max_depth=9, min_child_weight=3; total time=   0.8s\n",
      "[CV] END ....................max_depth=9, min_child_weight=1; total time=   0.8s\n",
      "[CV] END ....................max_depth=9, min_child_weight=3; total time=   0.7s\n",
      "[CV] END ....................max_depth=9, min_child_weight=1; total time=   0.9s\n",
      "[CV] END ....................max_depth=9, min_child_weight=5; total time=   0.6s\n",
      "[CV] END ....................max_depth=9, min_child_weight=5; total time=   0.6s\n",
      "[CV] END ....................max_depth=9, min_child_weight=1; total time=   1.0s\n",
      "[CV] END ....................max_depth=9, min_child_weight=5; total time=   0.3s\n",
      "Fitting 3 folds for each of 60 candidates, totalling 180 fits\n",
      "[CV] END ...max_depth=10, max_features=sqrt, n_estimators=10; total time=   0.2s\n",
      "[CV] END ...max_depth=10, max_features=sqrt, n_estimators=10; total time=   0.2s\n",
      "[CV] END ...max_depth=10, max_features=sqrt, n_estimators=10; total time=   0.2s\n",
      "[CV] END ...max_depth=10, max_features=sqrt, n_estimators=50; total time=   0.8s\n",
      "[CV] END ...max_depth=10, max_features=sqrt, n_estimators=50; total time=   0.8s\n",
      "[CV] END ...max_depth=10, max_features=sqrt, n_estimators=50; total time=   0.8s\n",
      "[CV] END ...max_depth=10, max_features=log2, n_estimators=10; total time=   0.1s\n",
      "[CV] END ...max_depth=10, max_features=log2, n_estimators=10; total time=   0.2s\n",
      "[CV] END ...max_depth=10, max_features=log2, n_estimators=10; total time=   0.2s\n",
      "[CV] END ..max_depth=10, max_features=sqrt, n_estimators=100; total time=   1.4s\n",
      "[CV] END ..max_depth=10, max_features=sqrt, n_estimators=100; total time=   1.2s\n",
      "[CV] END ..max_depth=10, max_features=sqrt, n_estimators=100; total time=   1.5s\n",
      "[CV] END ...max_depth=10, max_features=log2, n_estimators=50; total time=   0.7s\n",
      "[CV] END ...max_depth=10, max_features=log2, n_estimators=50; total time=   0.6s\n",
      "[CV] END ...max_depth=10, max_features=log2, n_estimators=50; total time=   0.8s\n",
      "[CV] END ..max_depth=10, max_features=sqrt, n_estimators=200; total time=   2.9s\n",
      "[CV] END ..max_depth=10, max_features=log2, n_estimators=100; total time=   1.7s\n",
      "[CV] END ..max_depth=10, max_features=log2, n_estimators=100; total time=   1.7s\n",
      "[CV] END ..max_depth=10, max_features=log2, n_estimators=100; total time=   1.6s\n",
      "[CV] END ..max_depth=10, max_features=sqrt, n_estimators=200; total time=   3.1s\n",
      "[CV] END ..max_depth=10, max_features=sqrt, n_estimators=200; total time=   2.8s\n",
      "[CV] END ...max_depth=10, max_features=None, n_estimators=10; total time=   0.5s\n",
      "[CV] END ...max_depth=10, max_features=None, n_estimators=10; total time=   0.4s\n",
      "[CV] END ...max_depth=10, max_features=None, n_estimators=10; total time=   0.4s\n",
      "[CV] END ..max_depth=10, max_features=log2, n_estimators=200; total time=   2.8s\n",
      "[CV] END ..max_depth=10, max_features=log2, n_estimators=200; total time=   2.6s\n",
      "[CV] END ..max_depth=10, max_features=log2, n_estimators=200; total time=   2.4s\n",
      "[CV] END ...max_depth=10, max_features=None, n_estimators=50; total time=   2.1s\n",
      "[CV] END ...max_depth=10, max_features=None, n_estimators=50; total time=   2.6s\n",
      "[CV] END ...max_depth=10, max_features=None, n_estimators=50; total time=   2.4s\n",
      "[CV] END ...max_depth=12, max_features=sqrt, n_estimators=10; total time=   0.1s\n",
      "[CV] END ...max_depth=12, max_features=sqrt, n_estimators=10; total time=   0.1s\n",
      "[CV] END ...max_depth=12, max_features=sqrt, n_estimators=10; total time=   0.1s\n",
      "[CV] END ...max_depth=12, max_features=sqrt, n_estimators=50; total time=   0.6s\n",
      "[CV] END ...max_depth=12, max_features=sqrt, n_estimators=50; total time=   0.6s\n",
      "[CV] END ...max_depth=12, max_features=sqrt, n_estimators=50; total time=   0.6s\n",
      "[CV] END ..max_depth=12, max_features=sqrt, n_estimators=100; total time=   1.2s\n",
      "[CV] END ..max_depth=10, max_features=None, n_estimators=100; total time=   4.6s\n",
      "[CV] END ..max_depth=10, max_features=None, n_estimators=100; total time=   4.8s\n",
      "[CV] END ..max_depth=12, max_features=sqrt, n_estimators=100; total time=   1.2s\n",
      "[CV] END ..max_depth=10, max_features=None, n_estimators=100; total time=   4.5s\n",
      "[CV] END ..max_depth=12, max_features=sqrt, n_estimators=100; total time=   1.1s\n",
      "[CV] END ...max_depth=12, max_features=log2, n_estimators=10; total time=   0.1s\n",
      "[CV] END ...max_depth=12, max_features=log2, n_estimators=10; total time=   0.1s\n",
      "[CV] END ...max_depth=12, max_features=log2, n_estimators=10; total time=   0.1s\n",
      "[CV] END ...max_depth=12, max_features=log2, n_estimators=50; total time=   0.6s\n",
      "[CV] END ...max_depth=12, max_features=log2, n_estimators=50; total time=   0.6s\n",
      "[CV] END ...max_depth=12, max_features=log2, n_estimators=50; total time=   0.7s\n",
      "[CV] END ..max_depth=12, max_features=sqrt, n_estimators=200; total time=   2.3s\n",
      "[CV] END ..max_depth=12, max_features=sqrt, n_estimators=200; total time=   2.7s\n",
      "[CV] END ..max_depth=12, max_features=sqrt, n_estimators=200; total time=   2.5s\n",
      "[CV] END ..max_depth=12, max_features=log2, n_estimators=100; total time=   1.5s\n",
      "[CV] END ..max_depth=12, max_features=log2, n_estimators=100; total time=   1.5s\n",
      "[CV] END ..max_depth=12, max_features=log2, n_estimators=100; total time=   1.5s\n",
      "[CV] END ...max_depth=12, max_features=None, n_estimators=10; total time=   0.5s\n",
      "[CV] END ...max_depth=12, max_features=None, n_estimators=10; total time=   0.6s\n",
      "[CV] END ...max_depth=12, max_features=None, n_estimators=10; total time=   0.5s\n",
      "[CV] END ..max_depth=12, max_features=log2, n_estimators=200; total time=   2.7s\n",
      "[CV] END ..max_depth=12, max_features=log2, n_estimators=200; total time=   2.9s\n",
      "[CV] END ..max_depth=12, max_features=log2, n_estimators=200; total time=   2.6s\n",
      "[CV] END ..max_depth=10, max_features=None, n_estimators=200; total time=   9.2s\n",
      "[CV] END ..max_depth=10, max_features=None, n_estimators=200; total time=   9.9s\n",
      "[CV] END ..max_depth=10, max_features=None, n_estimators=200; total time=  10.6s\n",
      "[CV] END ...max_depth=12, max_features=None, n_estimators=50; total time=   2.8s\n",
      "[CV] END ...max_depth=12, max_features=None, n_estimators=50; total time=   2.5s\n",
      "[CV] END .max_depth=None, max_features=sqrt, n_estimators=10; total time=   0.1s\n",
      "[CV] END .max_depth=None, max_features=sqrt, n_estimators=10; total time=   0.2s\n",
      "[CV] END ...max_depth=12, max_features=None, n_estimators=50; total time=   2.4s\n",
      "[CV] END .max_depth=None, max_features=sqrt, n_estimators=10; total time=   0.1s\n",
      "[CV] END .max_depth=None, max_features=sqrt, n_estimators=50; total time=   0.7s\n",
      "[CV] END .max_depth=None, max_features=sqrt, n_estimators=50; total time=   0.7s\n",
      "[CV] END .max_depth=None, max_features=sqrt, n_estimators=50; total time=   0.7s\n",
      "[CV] END max_depth=None, max_features=sqrt, n_estimators=100; total time=   1.6s\n",
      "[CV] END ..max_depth=12, max_features=None, n_estimators=100; total time=   5.1s\n",
      "[CV] END ..max_depth=12, max_features=None, n_estimators=100; total time=   5.1s\n",
      "[CV] END max_depth=None, max_features=sqrt, n_estimators=100; total time=   1.6s\n",
      "[CV] END ..max_depth=12, max_features=None, n_estimators=100; total time=   5.1s\n",
      "[CV] END max_depth=None, max_features=sqrt, n_estimators=100; total time=   1.6s\n",
      "[CV] END .max_depth=None, max_features=log2, n_estimators=10; total time=   0.2s\n",
      "[CV] END .max_depth=None, max_features=log2, n_estimators=10; total time=   0.1s\n",
      "[CV] END .max_depth=None, max_features=log2, n_estimators=10; total time=   0.1s\n",
      "[CV] END .max_depth=None, max_features=log2, n_estimators=50; total time=   0.8s\n",
      "[CV] END .max_depth=None, max_features=log2, n_estimators=50; total time=   0.8s\n",
      "[CV] END .max_depth=None, max_features=log2, n_estimators=50; total time=   0.7s\n",
      "[CV] END max_depth=None, max_features=sqrt, n_estimators=200; total time=   3.3s\n",
      "[CV] END max_depth=None, max_features=sqrt, n_estimators=200; total time=   3.2s\n",
      "[CV] END max_depth=None, max_features=sqrt, n_estimators=200; total time=   3.1s\n",
      "[CV] END max_depth=None, max_features=log2, n_estimators=100; total time=   1.5s\n",
      "[CV] END max_depth=None, max_features=log2, n_estimators=100; total time=   1.6s\n",
      "[CV] END max_depth=None, max_features=log2, n_estimators=100; total time=   1.3s\n",
      "[CV] END .max_depth=None, max_features=None, n_estimators=10; total time=   0.6s\n",
      "[CV] END .max_depth=None, max_features=None, n_estimators=10; total time=   0.6s\n",
      "[CV] END .max_depth=None, max_features=None, n_estimators=10; total time=   0.5s\n",
      "[CV] END max_depth=None, max_features=log2, n_estimators=200; total time=   2.8s\n",
      "[CV] END max_depth=None, max_features=log2, n_estimators=200; total time=   3.0s\n",
      "[CV] END max_depth=None, max_features=log2, n_estimators=200; total time=   2.8s\n",
      "[CV] END ..max_depth=12, max_features=None, n_estimators=200; total time=  10.0s\n",
      "[CV] END ..max_depth=12, max_features=None, n_estimators=200; total time=  11.1s\n",
      "[CV] END ..max_depth=12, max_features=None, n_estimators=200; total time=  11.2s\n",
      "[CV] END .max_depth=None, max_features=None, n_estimators=50; total time=   3.1s\n",
      "[CV] END .max_depth=None, max_features=None, n_estimators=50; total time=   2.9s\n",
      "[CV] END ...max_depth=15, max_features=sqrt, n_estimators=10; total time=   0.1s\n",
      "[CV] END ...max_depth=15, max_features=sqrt, n_estimators=10; total time=   0.1s\n",
      "[CV] END ...max_depth=15, max_features=sqrt, n_estimators=10; total time=   0.1s\n",
      "[CV] END .max_depth=None, max_features=None, n_estimators=50; total time=   2.7s\n",
      "[CV] END ...max_depth=15, max_features=sqrt, n_estimators=50; total time=   0.7s\n",
      "[CV] END ...max_depth=15, max_features=sqrt, n_estimators=50; total time=   0.7s\n",
      "[CV] END ...max_depth=15, max_features=sqrt, n_estimators=50; total time=   0.6s\n",
      "[CV] END ..max_depth=15, max_features=sqrt, n_estimators=100; total time=   1.4s\n",
      "[CV] END ..max_depth=15, max_features=sqrt, n_estimators=100; total time=   1.4s\n",
      "[CV] END max_depth=None, max_features=None, n_estimators=100; total time=   5.2s\n",
      "[CV] END max_depth=None, max_features=None, n_estimators=100; total time=   5.6s\n",
      "[CV] END max_depth=None, max_features=None, n_estimators=100; total time=   5.7s\n",
      "[CV] END ..max_depth=15, max_features=sqrt, n_estimators=100; total time=   1.2s\n",
      "[CV] END ...max_depth=15, max_features=log2, n_estimators=10; total time=   0.1s\n",
      "[CV] END ...max_depth=15, max_features=log2, n_estimators=10; total time=   0.2s\n",
      "[CV] END ...max_depth=15, max_features=log2, n_estimators=10; total time=   0.1s\n",
      "[CV] END ...max_depth=15, max_features=log2, n_estimators=50; total time=   0.7s\n",
      "[CV] END ...max_depth=15, max_features=log2, n_estimators=50; total time=   0.7s\n",
      "[CV] END ...max_depth=15, max_features=log2, n_estimators=50; total time=   0.7s\n",
      "[CV] END ..max_depth=15, max_features=sqrt, n_estimators=200; total time=   2.7s\n",
      "[CV] END ..max_depth=15, max_features=log2, n_estimators=100; total time=   1.4s\n",
      "[CV] END ..max_depth=15, max_features=sqrt, n_estimators=200; total time=   2.5s\n",
      "[CV] END ..max_depth=15, max_features=sqrt, n_estimators=200; total time=   2.9s\n",
      "[CV] END ..max_depth=15, max_features=log2, n_estimators=100; total time=   1.3s\n",
      "[CV] END ..max_depth=15, max_features=log2, n_estimators=100; total time=   1.3s\n",
      "[CV] END ...max_depth=15, max_features=None, n_estimators=10; total time=   0.7s\n",
      "[CV] END ...max_depth=15, max_features=None, n_estimators=10; total time=   0.5s\n",
      "[CV] END ...max_depth=15, max_features=None, n_estimators=10; total time=   0.5s\n",
      "[CV] END ..max_depth=15, max_features=log2, n_estimators=200; total time=   2.4s\n",
      "[CV] END ..max_depth=15, max_features=log2, n_estimators=200; total time=   2.7s\n",
      "[CV] END ..max_depth=15, max_features=log2, n_estimators=200; total time=   2.8s\n",
      "[CV] END max_depth=None, max_features=None, n_estimators=200; total time=  10.8s\n",
      "[CV] END max_depth=None, max_features=None, n_estimators=200; total time=  10.5s\n",
      "[CV] END ...max_depth=15, max_features=None, n_estimators=50; total time=   2.7s\n",
      "[CV] END ...max_depth=15, max_features=None, n_estimators=50; total time=   2.8s\n",
      "[CV] END max_depth=None, max_features=None, n_estimators=200; total time=  12.2s\n",
      "[CV] END ...max_depth=15, max_features=None, n_estimators=50; total time=   2.7s\n",
      "[CV] END ...max_depth=20, max_features=sqrt, n_estimators=10; total time=   0.1s\n",
      "[CV] END ...max_depth=20, max_features=sqrt, n_estimators=10; total time=   0.2s\n",
      "[CV] END ...max_depth=20, max_features=sqrt, n_estimators=10; total time=   0.2s\n",
      "[CV] END ...max_depth=20, max_features=sqrt, n_estimators=50; total time=   0.8s\n",
      "[CV] END ...max_depth=20, max_features=sqrt, n_estimators=50; total time=   0.8s\n",
      "[CV] END ...max_depth=20, max_features=sqrt, n_estimators=50; total time=   0.7s\n",
      "[CV] END ..max_depth=20, max_features=sqrt, n_estimators=100; total time=   1.6s\n",
      "[CV] END ..max_depth=15, max_features=None, n_estimators=100; total time=   5.5s\n",
      "[CV] END ..max_depth=15, max_features=None, n_estimators=100; total time=   5.8s\n",
      "[CV] END ..max_depth=20, max_features=sqrt, n_estimators=100; total time=   1.6s\n",
      "[CV] END ..max_depth=20, max_features=sqrt, n_estimators=100; total time=   1.4s\n",
      "[CV] END ...max_depth=20, max_features=log2, n_estimators=10; total time=   0.2s\n",
      "[CV] END ..max_depth=15, max_features=None, n_estimators=100; total time=   5.8s\n",
      "[CV] END ...max_depth=20, max_features=log2, n_estimators=10; total time=   0.1s\n",
      "[CV] END ...max_depth=20, max_features=log2, n_estimators=10; total time=   0.1s\n",
      "[CV] END ...max_depth=20, max_features=log2, n_estimators=50; total time=   0.7s\n",
      "[CV] END ...max_depth=20, max_features=log2, n_estimators=50; total time=   0.7s\n",
      "[CV] END ...max_depth=20, max_features=log2, n_estimators=50; total time=   0.8s\n",
      "[CV] END ..max_depth=20, max_features=sqrt, n_estimators=200; total time=   3.0s\n",
      "[CV] END ..max_depth=20, max_features=sqrt, n_estimators=200; total time=   2.9s\n",
      "[CV] END ..max_depth=20, max_features=sqrt, n_estimators=200; total time=   2.9s\n",
      "[CV] END ..max_depth=20, max_features=log2, n_estimators=100; total time=   1.7s\n",
      "[CV] END ..max_depth=20, max_features=log2, n_estimators=100; total time=   1.4s\n",
      "[CV] END ..max_depth=20, max_features=log2, n_estimators=100; total time=   1.4s\n",
      "[CV] END ...max_depth=20, max_features=None, n_estimators=10; total time=   0.6s\n",
      "[CV] END ...max_depth=20, max_features=None, n_estimators=10; total time=   0.5s\n",
      "[CV] END ...max_depth=20, max_features=None, n_estimators=10; total time=   0.5s\n",
      "[CV] END ..max_depth=20, max_features=log2, n_estimators=200; total time=   2.8s\n",
      "[CV] END ..max_depth=20, max_features=log2, n_estimators=200; total time=   2.9s\n",
      "[CV] END ..max_depth=15, max_features=None, n_estimators=200; total time=  10.2s\n",
      "[CV] END ..max_depth=15, max_features=None, n_estimators=200; total time=  10.3s\n",
      "[CV] END ..max_depth=20, max_features=log2, n_estimators=200; total time=   2.9s\n",
      "[CV] END ..max_depth=15, max_features=None, n_estimators=200; total time=  11.5s\n",
      "[CV] END ...max_depth=20, max_features=None, n_estimators=50; total time=   3.1s\n",
      "[CV] END ...max_depth=20, max_features=None, n_estimators=50; total time=   3.0s\n",
      "[CV] END ...max_depth=20, max_features=None, n_estimators=50; total time=   2.6s\n",
      "[CV] END ..max_depth=20, max_features=None, n_estimators=100; total time=   5.0s\n",
      "[CV] END ..max_depth=20, max_features=None, n_estimators=100; total time=   4.9s\n",
      "[CV] END ..max_depth=20, max_features=None, n_estimators=100; total time=   5.5s\n",
      "[CV] END ..max_depth=20, max_features=None, n_estimators=200; total time=   8.8s\n",
      "[CV] END ..max_depth=20, max_features=None, n_estimators=200; total time=   8.0s\n",
      "[CV] END ..max_depth=20, max_features=None, n_estimators=200; total time=   7.6s\n",
      "Fitting 3 folds for each of 20 candidates, totalling 60 fits\n",
      "[CV] END ......................max_depth=10, n_estimators=10; total time=   1.0s\n",
      "[CV] END ......................max_depth=10, n_estimators=10; total time=   1.0s\n",
      "[CV] END ......................max_depth=10, n_estimators=10; total time=   1.1s\n",
      "[CV] END ......................max_depth=10, n_estimators=50; total time=   5.0s\n",
      "[CV] END ......................max_depth=10, n_estimators=50; total time=   5.0s\n",
      "[CV] END ......................max_depth=10, n_estimators=50; total time=   5.5s\n",
      "[CV] END ......................max_depth=12, n_estimators=10; total time=   1.1s\n",
      "[CV] END ......................max_depth=12, n_estimators=10; total time=   1.1s\n",
      "[CV] END ......................max_depth=12, n_estimators=10; total time=   1.0s\n",
      "[CV] END .....................max_depth=10, n_estimators=100; total time=  10.1s\n",
      "[CV] END .....................max_depth=10, n_estimators=100; total time=  10.2s\n",
      "[CV] END .....................max_depth=10, n_estimators=100; total time=   9.5s\n",
      "[CV] END ......................max_depth=12, n_estimators=50; total time=   6.3s\n",
      "[CV] END ......................max_depth=12, n_estimators=50; total time=   6.4s\n",
      "[CV] END ......................max_depth=12, n_estimators=50; total time=   6.4s\n",
      "[CV] END .....................max_depth=10, n_estimators=200; total time=  20.5s\n",
      "[CV] END .....................max_depth=10, n_estimators=200; total time=  20.8s\n",
      "[CV] END ....................max_depth=None, n_estimators=10; total time=   1.8s\n",
      "[CV] END ....................max_depth=None, n_estimators=10; total time=   1.3s\n",
      "[CV] END .....................max_depth=12, n_estimators=100; total time=  15.1s\n",
      "[CV] END .....................max_depth=12, n_estimators=100; total time=  15.0s\n",
      "[CV] END .....................max_depth=10, n_estimators=200; total time=  21.0s\n",
      "[CV] END ....................max_depth=None, n_estimators=10; total time=   1.5s\n",
      "[CV] END .....................max_depth=12, n_estimators=100; total time=  14.5s\n",
      "[CV] END ....................max_depth=None, n_estimators=50; total time=   6.7s\n",
      "[CV] END ....................max_depth=None, n_estimators=50; total time=   6.6s\n",
      "[CV] END ....................max_depth=None, n_estimators=50; total time=   6.7s\n",
      "[CV] END ...................max_depth=None, n_estimators=100; total time=  13.6s\n",
      "[CV] END ...................max_depth=None, n_estimators=100; total time=  13.7s\n",
      "[CV] END ......................max_depth=15, n_estimators=10; total time=   1.4s\n",
      "[CV] END .....................max_depth=12, n_estimators=200; total time=  29.6s\n",
      "[CV] END ......................max_depth=15, n_estimators=10; total time=   1.3s\n",
      "[CV] END ......................max_depth=15, n_estimators=10; total time=   1.3s\n",
      "[CV] END ...................max_depth=None, n_estimators=100; total time=  13.6s\n",
      "[CV] END .....................max_depth=12, n_estimators=200; total time=  29.6s\n",
      "[CV] END .....................max_depth=12, n_estimators=200; total time=  29.0s\n",
      "[CV] END ......................max_depth=15, n_estimators=50; total time=   7.5s\n",
      "[CV] END ......................max_depth=15, n_estimators=50; total time=   6.8s\n",
      "[CV] END ......................max_depth=15, n_estimators=50; total time=   7.5s\n",
      "[CV] END ...................max_depth=None, n_estimators=200; total time=  23.3s\n",
      "[CV] END ...................max_depth=None, n_estimators=200; total time=  25.4s\n",
      "[CV] END ......................max_depth=20, n_estimators=10; total time=   1.4s\n",
      "[CV] END ......................max_depth=20, n_estimators=10; total time=   1.3s\n",
      "[CV] END ......................max_depth=20, n_estimators=10; total time=   1.3s\n",
      "[CV] END ...................max_depth=None, n_estimators=200; total time=  24.2s\n",
      "[CV] END .....................max_depth=15, n_estimators=100; total time=  19.7s\n",
      "[CV] END ......................max_depth=20, n_estimators=50; total time=   7.2s\n",
      "[CV] END .....................max_depth=15, n_estimators=100; total time=  19.4s\n",
      "[CV] END .....................max_depth=15, n_estimators=100; total time=  18.7s\n",
      "[CV] END ......................max_depth=20, n_estimators=50; total time=   6.9s\n",
      "[CV] END ......................max_depth=20, n_estimators=50; total time=   7.1s\n",
      "[CV] END .....................max_depth=20, n_estimators=100; total time=  15.6s\n",
      "[CV] END .....................max_depth=20, n_estimators=100; total time=  17.1s\n",
      "[CV] END .....................max_depth=20, n_estimators=100; total time=  16.5s\n",
      "[CV] END .....................max_depth=15, n_estimators=200; total time=  41.0s\n",
      "[CV] END .....................max_depth=15, n_estimators=200; total time=  40.6s\n",
      "[CV] END .....................max_depth=15, n_estimators=200; total time=  39.4s\n",
      "[CV] END .....................max_depth=20, n_estimators=200; total time=  25.7s\n",
      "[CV] END .....................max_depth=20, n_estimators=200; total time=  29.2s\n",
      "[CV] END .....................max_depth=20, n_estimators=200; total time=  20.5s\n",
      "--------------Best Params for XGBoost-----------------\n",
      "{'min_child_weight': 1, 'max_depth': 9}\n",
      "--------------Best Params for RF-----------------\n",
      "{'n_estimators': 200, 'max_features': 'sqrt', 'max_depth': None}\n",
      "--------------Best Params for GradientBoost-----------------\n",
      "{'n_estimators': 200, 'max_depth': 12}\n"
     ]
    },
    {
     "data": {
      "text/plain": [
       "{'XGBoost': {'min_child_weight': 1, 'max_depth': 9},\n",
       " 'RF': {'n_estimators': 200, 'max_features': 'sqrt', 'max_depth': None},\n",
       " 'GradientBoost': {'n_estimators': 200, 'max_depth': 12}}"
      ]
     },
     "execution_count": 330,
     "metadata": {},
     "output_type": "execute_result"
    }
   ],
   "source": [
    "model_params = find_best_params(df)\n",
    "model_params"
   ]
  },
  {
   "cell_type": "markdown",
   "metadata": {},
   "source": [
    "##### Retraining the Models with best params"
   ]
  },
  {
   "cell_type": "code",
   "execution_count": 331,
   "metadata": {},
   "outputs": [
    {
     "name": "stdout",
     "output_type": "stream",
     "text": [
      "XGBClassifier\n",
      "Model performance on training set\n",
      "- Accuracy: 0.9996\n",
      "- F1 Score: 0.9997\n",
      "- Precision: 0.9996\n",
      "- Recall: 0.9997\n",
      "- ROC AUC Score: 0.9996\n",
      "------------------------------------------------\n",
      "Model performance on testing set\n",
      "- Accuracy: 0.7078\n",
      "- F1 Score: 0.6064\n",
      "- Precision: 0.5493\n",
      "- Recall: 0.6767\n",
      "- ROC AUC Score: 0.7000\n",
      "\n",
      "\n",
      "RandomForestClassifier\n",
      "Model performance on training set\n",
      "- Accuracy: 1.0000\n",
      "- F1 Score: 1.0000\n",
      "- Precision: 1.0000\n",
      "- Recall: 1.0000\n",
      "- ROC AUC Score: 1.0000\n",
      "------------------------------------------------\n",
      "Model performance on testing set\n",
      "- Accuracy: 0.7086\n",
      "- F1 Score: 0.6099\n",
      "- Precision: 0.5497\n",
      "- Recall: 0.6850\n",
      "- ROC AUC Score: 0.7027\n",
      "\n",
      "\n",
      "GradientBoostingClassifier\n",
      "Model performance on training set\n",
      "- Accuracy: 1.0000\n",
      "- F1 Score: 1.0000\n",
      "- Precision: 1.0000\n",
      "- Recall: 1.0000\n",
      "- ROC AUC Score: 1.0000\n",
      "------------------------------------------------\n",
      "Model performance on testing set\n",
      "- Accuracy: 0.7090\n",
      "- F1 Score: 0.6080\n",
      "- Precision: 0.5508\n",
      "- Recall: 0.6785\n",
      "- ROC AUC Score: 0.7013\n",
      "\n",
      "\n"
     ]
    }
   ],
   "source": [
    "from sklearn.metrics import roc_auc_score,roc_curve\n",
    "\n",
    "best_models = {\n",
    "    \"XGBClassifier\": XGBClassifier(**model_params['XGBoost'], n_jobs=-1),\n",
    "    \"RandomForestClassifier\": RandomForestClassifier(**model_params['RF']),\n",
    "    \"GradientBoostingClassifier\": GradientBoostingClassifier(**model_params['GradientBoost'])\n",
    "}\n",
    "\n",
    "tuned_report = train_model(df, best_models)"
   ]
  },
  {
   "cell_type": "code",
   "execution_count": 332,
   "metadata": {},
   "outputs": [
    {
     "data": {
      "text/html": [
       "<div>\n",
       "<style scoped>\n",
       "    .dataframe tbody tr th:only-of-type {\n",
       "        vertical-align: middle;\n",
       "    }\n",
       "\n",
       "    .dataframe tbody tr th {\n",
       "        vertical-align: top;\n",
       "    }\n",
       "\n",
       "    .dataframe thead th {\n",
       "        text-align: right;\n",
       "    }\n",
       "</style>\n",
       "<table border=\"1\" class=\"dataframe\">\n",
       "  <thead>\n",
       "    <tr style=\"text-align: right;\">\n",
       "      <th></th>\n",
       "      <th>Model Name</th>\n",
       "      <th>Accuracy</th>\n",
       "      <th>ROC AUC Score</th>\n",
       "    </tr>\n",
       "  </thead>\n",
       "  <tbody>\n",
       "    <tr>\n",
       "      <th>2</th>\n",
       "      <td>GradientBoostingClassifier</td>\n",
       "      <td>0.708987</td>\n",
       "      <td>0.701332</td>\n",
       "    </tr>\n",
       "    <tr>\n",
       "      <th>1</th>\n",
       "      <td>RandomForestClassifier</td>\n",
       "      <td>0.708595</td>\n",
       "      <td>0.702666</td>\n",
       "    </tr>\n",
       "    <tr>\n",
       "      <th>0</th>\n",
       "      <td>XGBClassifier</td>\n",
       "      <td>0.707810</td>\n",
       "      <td>0.700006</td>\n",
       "    </tr>\n",
       "  </tbody>\n",
       "</table>\n",
       "</div>"
      ],
      "text/plain": [
       "                   Model Name  Accuracy  ROC AUC Score\n",
       "2  GradientBoostingClassifier  0.708987       0.701332\n",
       "1      RandomForestClassifier  0.708595       0.702666\n",
       "0               XGBClassifier  0.707810       0.700006"
      ]
     },
     "execution_count": 332,
     "metadata": {},
     "output_type": "execute_result"
    }
   ],
   "source": [
    "tuned_report"
   ]
  },
  {
   "cell_type": "code",
   "execution_count": 333,
   "metadata": {},
   "outputs": [
    {
     "name": "stdout",
     "output_type": "stream",
     "text": [
      "Best Final Model RF\n",
      "Accuracy Score for the model: 0.7086\n",
      "              precision    recall  f1-score   support\n",
      "\n",
      "           0       0.82      0.72      0.77      3401\n",
      "           1       0.55      0.69      0.61      1695\n",
      "\n",
      "    accuracy                           0.71      5096\n",
      "   macro avg       0.69      0.70      0.69      5096\n",
      "weighted avg       0.73      0.71      0.72      5096\n",
      "\n"
     ]
    }
   ],
   "source": [
    "train_data, train_label, test_data, test_label = get_data(df)\n",
    "best_model = RandomForestClassifier(**model_params['RF'])\n",
    "best_model = best_model.fit(train_data, train_label)\n",
    "y_pred = best_model.predict(test_data)\n",
    "score = accuracy_score(test_label, y_pred)\n",
    "cr = classification_report(test_label, y_pred)\n",
    "\n",
    "print(\"Best Final Model RF\")\n",
    "print(\"Accuracy Score for the model: {:.4f}\".format(score))\n",
    "print(cr)"
   ]
  },
  {
   "cell_type": "code",
   "execution_count": 334,
   "metadata": {},
   "outputs": [
    {
     "data": {
      "text/plain": [
       "<sklearn.metrics._plot.confusion_matrix.ConfusionMatrixDisplay at 0x12c6bfe10>"
      ]
     },
     "execution_count": 334,
     "metadata": {},
     "output_type": "execute_result"
    },
    {
     "data": {
      "image/png": "[encoded data removed]",
      "text/plain": [
       "<Figure size 640x480 with 2 Axes>"
      ]
     },
     "metadata": {},
     "output_type": "display_data"
    }
   ],
   "source": [
    "from sklearn.metrics import ConfusionMatrixDisplay\n",
    "ConfusionMatrixDisplay.from_estimator(best_model, test_data, test_label)"
   ]
  }
 ],
 "metadata": {
  "kernelspec": {
   "display_name": "Python 3",
   "language": "python",
   "name": "python3"
  },
  "language_info": {
   "codemirror_mode": {
    "name": "ipython",
    "version": 3
   },
   "file_extension": ".py",
   "mimetype": "text/x-python",
   "name": "python",
   "nbconvert_exporter": "python",
   "pygments_lexer": "ipython3",
   "version": "3.11.9"
  }
 },
 "nbformat": 4,
 "nbformat_minor": 2
}
